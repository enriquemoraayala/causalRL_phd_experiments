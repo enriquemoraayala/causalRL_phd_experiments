{
 "cells": [
  {
   "cell_type": "code",
   "execution_count": 1,
   "id": "86a431e8",
   "metadata": {},
   "outputs": [],
   "source": [
    "import pandas as pd\n",
    "import numpy as np\n",
    "import networkx as nx\n",
    "import dowhy\n",
    "import matplotlib as plt\n",
    "\n",
    "from dowhy import gcm\n",
    "from dowhy import CausalModel"
   ]
  },
  {
   "cell_type": "code",
   "execution_count": 2,
   "id": "1d95b64e",
   "metadata": {},
   "outputs": [],
   "source": [
    "data_path = '../../data/payments_phoenix_2022_processed.csv'\n",
    "df = pd.read_csv(data_path)"
   ]
  },
  {
   "cell_type": "code",
   "execution_count": 3,
   "id": "a89c6b4c",
   "metadata": {},
   "outputs": [
    {
     "data": {
      "text/html": [
       "<div>\n",
       "<style scoped>\n",
       "    .dataframe tbody tr th:only-of-type {\n",
       "        vertical-align: middle;\n",
       "    }\n",
       "\n",
       "    .dataframe tbody tr th {\n",
       "        vertical-align: top;\n",
       "    }\n",
       "\n",
       "    .dataframe thead th {\n",
       "        text-align: right;\n",
       "    }\n",
       "</style>\n",
       "<table border=\"1\" class=\"dataframe\">\n",
       "  <thead>\n",
       "    <tr style=\"text-align: right;\">\n",
       "      <th></th>\n",
       "      <th>Department</th>\n",
       "      <th>Job Title</th>\n",
       "      <th>Full/Part Time</th>\n",
       "      <th>Hourly Rate</th>\n",
       "      <th>antiguity_months</th>\n",
       "      <th>FullPartTime</th>\n",
       "    </tr>\n",
       "  </thead>\n",
       "  <tbody>\n",
       "    <tr>\n",
       "      <th>0</th>\n",
       "      <td>Police Department</td>\n",
       "      <td>Police Officer</td>\n",
       "      <td>F</td>\n",
       "      <td>37.79</td>\n",
       "      <td>365.609150</td>\n",
       "      <td>1.0</td>\n",
       "    </tr>\n",
       "    <tr>\n",
       "      <th>1</th>\n",
       "      <td>Police Department</td>\n",
       "      <td>Police Officer</td>\n",
       "      <td>F</td>\n",
       "      <td>30.04</td>\n",
       "      <td>36.501776</td>\n",
       "      <td>1.0</td>\n",
       "    </tr>\n",
       "    <tr>\n",
       "      <th>2</th>\n",
       "      <td>Fire Department</td>\n",
       "      <td>Firefighter 56hr</td>\n",
       "      <td>F</td>\n",
       "      <td>24.48</td>\n",
       "      <td>167.592764</td>\n",
       "      <td>1.0</td>\n",
       "    </tr>\n",
       "    <tr>\n",
       "      <th>3</th>\n",
       "      <td>Police Department</td>\n",
       "      <td>Forensic Scientist IV</td>\n",
       "      <td>F</td>\n",
       "      <td>51.02</td>\n",
       "      <td>144.134376</td>\n",
       "      <td>1.0</td>\n",
       "    </tr>\n",
       "    <tr>\n",
       "      <th>4</th>\n",
       "      <td>Parks &amp; Recreation: Aquatics</td>\n",
       "      <td>Parks &amp; Recreation Aide*Cash</td>\n",
       "      <td>P</td>\n",
       "      <td>12.92</td>\n",
       "      <td>140.454629</td>\n",
       "      <td>0.0</td>\n",
       "    </tr>\n",
       "    <tr>\n",
       "      <th>5</th>\n",
       "      <td>Human Services Department</td>\n",
       "      <td>Secretary II</td>\n",
       "      <td>F</td>\n",
       "      <td>15.98</td>\n",
       "      <td>24.082630</td>\n",
       "      <td>1.0</td>\n",
       "    </tr>\n",
       "    <tr>\n",
       "      <th>6</th>\n",
       "      <td>Street Transportation Dept</td>\n",
       "      <td>Environmental Quality Spec</td>\n",
       "      <td>F</td>\n",
       "      <td>41.78</td>\n",
       "      <td>63.639910</td>\n",
       "      <td>1.0</td>\n",
       "    </tr>\n",
       "    <tr>\n",
       "      <th>7</th>\n",
       "      <td>Planning &amp; Development Dept</td>\n",
       "      <td>Chief Engineering Tech*U7</td>\n",
       "      <td>F</td>\n",
       "      <td>23.58</td>\n",
       "      <td>63.179942</td>\n",
       "      <td>1.0</td>\n",
       "    </tr>\n",
       "    <tr>\n",
       "      <th>8</th>\n",
       "      <td>Public Transit</td>\n",
       "      <td>Municipal Security Guard</td>\n",
       "      <td>F</td>\n",
       "      <td>22.64</td>\n",
       "      <td>38.801618</td>\n",
       "      <td>1.0</td>\n",
       "    </tr>\n",
       "    <tr>\n",
       "      <th>9</th>\n",
       "      <td>Water Services Department</td>\n",
       "      <td>GIS Coordinator</td>\n",
       "      <td>F</td>\n",
       "      <td>43.92</td>\n",
       "      <td>272.465554</td>\n",
       "      <td>1.0</td>\n",
       "    </tr>\n",
       "  </tbody>\n",
       "</table>\n",
       "</div>"
      ],
      "text/plain": [
       "                     Department                     Job Title Full/Part Time  \\\n",
       "0             Police Department                Police Officer              F   \n",
       "1             Police Department                Police Officer              F   \n",
       "2               Fire Department              Firefighter 56hr              F   \n",
       "3             Police Department         Forensic Scientist IV              F   \n",
       "4  Parks & Recreation: Aquatics  Parks & Recreation Aide*Cash              P   \n",
       "5     Human Services Department                  Secretary II              F   \n",
       "6    Street Transportation Dept    Environmental Quality Spec              F   \n",
       "7   Planning & Development Dept     Chief Engineering Tech*U7              F   \n",
       "8                Public Transit      Municipal Security Guard              F   \n",
       "9     Water Services Department               GIS Coordinator              F   \n",
       "\n",
       "   Hourly Rate  antiguity_months  FullPartTime  \n",
       "0        37.79        365.609150           1.0  \n",
       "1        30.04         36.501776           1.0  \n",
       "2        24.48        167.592764           1.0  \n",
       "3        51.02        144.134376           1.0  \n",
       "4        12.92        140.454629           0.0  \n",
       "5        15.98         24.082630           1.0  \n",
       "6        41.78         63.639910           1.0  \n",
       "7        23.58         63.179942           1.0  \n",
       "8        22.64         38.801618           1.0  \n",
       "9        43.92        272.465554           1.0  "
      ]
     },
     "execution_count": 3,
     "metadata": {},
     "output_type": "execute_result"
    }
   ],
   "source": [
    "columns = df.columns\n",
    "df_causal = df[columns[2:]].copy()\n",
    "df_causal.head()\n",
    "causal_columns = ['Department','Job Title', 'Full/Part Time', 'Hourly Rate', 'antiguity_months']\n",
    "df_causal = df_causal[causal_columns]\n",
    "df_causal.head()\n",
    "cat_columns = ['Department','Job Title', 'Full/Part Time']\n",
    "df_causal[cat_columns] = df_causal[cat_columns].astype('category')\n",
    "df_causal.loc[df_causal['Full/Part Time'] == \"F\", \"FullPartTime\"] = 1.0\n",
    "df_causal.loc[df_causal['Full/Part Time'] == \"P\", \"FullPartTime\"] = 0.0\n",
    "df_causal[0:10]"
   ]
  },
  {
   "cell_type": "code",
   "execution_count": 4,
   "id": "9f103891",
   "metadata": {},
   "outputs": [],
   "source": [
    "df_causal = df_causal.dropna()"
   ]
  },
  {
   "cell_type": "code",
   "execution_count": 6,
   "id": "6625e44c",
   "metadata": {},
   "outputs": [
    {
     "data": {
      "image/png": "[encoded data removed]",
      "text/plain": [
       "<Figure size 640x480 with 1 Axes>"
      ]
     },
     "metadata": {},
     "output_type": "display_data"
    }
   ],
   "source": [
    "causal_graph = nx.DiGraph()\n",
    "causal_graph.add_edges_from([('FullPartTime', 'Hourly Rate'),\n",
    "                             ('antiguity_months', 'Hourly Rate'),\n",
    "                             ('Department', 'Hourly Rate'),\n",
    "                             ('Department','FullPartTime')])\n",
    "nx.draw_networkx(causal_graph, with_labels = True, arrows = True)"
   ]
  },
  {
   "cell_type": "markdown",
   "id": "3ee5ae5f",
   "metadata": {},
   "source": [
    "Probably, to say that Department is affecting FullPartTime is not completely truth, since should be some policies around the department regarding F/P time employees, the reality is that a lot of U's variables should affect the F/P Time decission as well."
   ]
  },
  {
   "cell_type": "code",
   "execution_count": 7,
   "id": "e6aa59f7",
   "metadata": {},
   "outputs": [],
   "source": [
    "causal_model = gcm.StructuralCausalModel(causal_graph)\n",
    "gcm.auto.assign_causal_mechanisms(causal_model, df_causal)"
   ]
  },
  {
   "cell_type": "code",
   "execution_count": 8,
   "id": "1b8e055b",
   "metadata": {},
   "outputs": [
    {
     "name": "stderr",
     "output_type": "stream",
     "text": [
      "Fitting causal mechanism of node Department: 100%|████████████████████████████████████████| 4/4 [00:05<00:00,  1.33s/it]\n"
     ]
    }
   ],
   "source": [
    "gcm.fit(causal_model, df_causal)"
   ]
  },
  {
   "cell_type": "code",
   "execution_count": 9,
   "id": "0f676e63",
   "metadata": {},
   "outputs": [
    {
     "data": {
      "text/plain": [
       "{('Department', 'Hourly Rate'): 21.418995018859803,\n",
       " ('FullPartTime', 'Hourly Rate'): 8.050117900097524,\n",
       " ('antiguity_months', 'Hourly Rate'): 24.53041736839038}"
      ]
     },
     "execution_count": 9,
     "metadata": {},
     "output_type": "execute_result"
    }
   ],
   "source": [
    "strength = gcm.arrow_strength(causal_model, 'Hourly Rate')\n",
    "strength"
   ]
  },
  {
   "cell_type": "markdown",
   "id": "f7edff99",
   "metadata": {},
   "source": [
    "By computing counterfactuals, we answer the question:\n",
    "\n",
    "I observed a certain outcome z for a variable Z where variable X was set to a value x. What would have happened to the value of Z, had I intervened on X to assign it a different value x’?\n",
    "\n",
    "As a concrete example, we can imagine the following:\n",
    "\n",
    "I’m seeing unhealthy high levels of my cholesterol LDL (Z=10). I didn’t take any medication against it in recent months (X=0). What would have happened to my cholesterol LDL level (Z), had I taken a medication dosage of 5g a day (X := 5)?\n",
    "\n",
    "\n",
    "Or in hour example:\n",
    "\n",
    "I am in the Police Deparment, and I have X=x antiguity_months, having Y=y USD by hour... What would earn if I was working in the Fire Department?"
   ]
  },
  {
   "cell_type": "code",
   "execution_count": 10,
   "id": "106e7120",
   "metadata": {},
   "outputs": [],
   "source": [
    "causal_model = gcm.InvertibleStructuralCausalModel(causal_graph)"
   ]
  },
  {
   "cell_type": "code",
   "execution_count": 13,
   "id": "13354f12",
   "metadata": {},
   "outputs": [
    {
     "name": "stderr",
     "output_type": "stream",
     "text": [
      "Fitting causal mechanism of node Department: 100%|████████████████████████████████████████| 4/4 [00:00<00:00, 18.72it/s]\n"
     ]
    }
   ],
   "source": [
    "causal_model.set_causal_mechanism('Department', gcm.EmpiricalDistribution())\n",
    "causal_model.set_causal_mechanism('antiguity_months', gcm.EmpiricalDistribution())\n",
    "causal_model.set_causal_mechanism('FullPartTime', gcm.AdditiveNoiseModel(gcm.ml.create_linear_regressor()))\n",
    "causal_model.set_causal_mechanism('Hourly Rate', gcm.AdditiveNoiseModel(gcm.ml.create_linear_regressor()))\n",
    "\n",
    "gcm.fit(causal_model, df_causal)"
   ]
  },
  {
   "cell_type": "code",
   "execution_count": 18,
   "id": "cbc724a7",
   "metadata": {},
   "outputs": [
    {
     "data": {
      "text/plain": [
       "{('Department', 'Hourly Rate'): 24.49975210129429,\n",
       " ('FullPartTime', 'Hourly Rate'): 2.3003364820233063,\n",
       " ('antiguity_months', 'Hourly Rate'): 18.362654211225752}"
      ]
     },
     "execution_count": 18,
     "metadata": {},
     "output_type": "execute_result"
    }
   ],
   "source": [
    "strength = gcm.arrow_strength(causal_model, 'Hourly Rate')\n",
    "strength"
   ]
  },
  {
   "cell_type": "code",
   "execution_count": 14,
   "id": "8f3eb88b",
   "metadata": {},
   "outputs": [
    {
     "data": {
      "text/html": [
       "<div>\n",
       "<style scoped>\n",
       "    .dataframe tbody tr th:only-of-type {\n",
       "        vertical-align: middle;\n",
       "    }\n",
       "\n",
       "    .dataframe tbody tr th {\n",
       "        vertical-align: top;\n",
       "    }\n",
       "\n",
       "    .dataframe thead th {\n",
       "        text-align: right;\n",
       "    }\n",
       "</style>\n",
       "<table border=\"1\" class=\"dataframe\">\n",
       "  <thead>\n",
       "    <tr style=\"text-align: right;\">\n",
       "      <th></th>\n",
       "      <th>Department</th>\n",
       "      <th>Job Title</th>\n",
       "      <th>Full/Part Time</th>\n",
       "      <th>Hourly Rate</th>\n",
       "      <th>antiguity_months</th>\n",
       "      <th>FullPartTime</th>\n",
       "    </tr>\n",
       "  </thead>\n",
       "  <tbody>\n",
       "    <tr>\n",
       "      <th>0</th>\n",
       "      <td>Police Department</td>\n",
       "      <td>Police Officer</td>\n",
       "      <td>F</td>\n",
       "      <td>37.79</td>\n",
       "      <td>365.609150</td>\n",
       "      <td>1.0</td>\n",
       "    </tr>\n",
       "    <tr>\n",
       "      <th>1</th>\n",
       "      <td>Police Department</td>\n",
       "      <td>Police Officer</td>\n",
       "      <td>F</td>\n",
       "      <td>30.04</td>\n",
       "      <td>36.501776</td>\n",
       "      <td>1.0</td>\n",
       "    </tr>\n",
       "    <tr>\n",
       "      <th>2</th>\n",
       "      <td>Fire Department</td>\n",
       "      <td>Firefighter 56hr</td>\n",
       "      <td>F</td>\n",
       "      <td>24.48</td>\n",
       "      <td>167.592764</td>\n",
       "      <td>1.0</td>\n",
       "    </tr>\n",
       "    <tr>\n",
       "      <th>3</th>\n",
       "      <td>Police Department</td>\n",
       "      <td>Forensic Scientist IV</td>\n",
       "      <td>F</td>\n",
       "      <td>51.02</td>\n",
       "      <td>144.134376</td>\n",
       "      <td>1.0</td>\n",
       "    </tr>\n",
       "    <tr>\n",
       "      <th>4</th>\n",
       "      <td>Parks &amp; Recreation: Aquatics</td>\n",
       "      <td>Parks &amp; Recreation Aide*Cash</td>\n",
       "      <td>P</td>\n",
       "      <td>12.92</td>\n",
       "      <td>140.454629</td>\n",
       "      <td>0.0</td>\n",
       "    </tr>\n",
       "    <tr>\n",
       "      <th>5</th>\n",
       "      <td>Human Services Department</td>\n",
       "      <td>Secretary II</td>\n",
       "      <td>F</td>\n",
       "      <td>15.98</td>\n",
       "      <td>24.082630</td>\n",
       "      <td>1.0</td>\n",
       "    </tr>\n",
       "    <tr>\n",
       "      <th>6</th>\n",
       "      <td>Street Transportation Dept</td>\n",
       "      <td>Environmental Quality Spec</td>\n",
       "      <td>F</td>\n",
       "      <td>41.78</td>\n",
       "      <td>63.639910</td>\n",
       "      <td>1.0</td>\n",
       "    </tr>\n",
       "    <tr>\n",
       "      <th>7</th>\n",
       "      <td>Planning &amp; Development Dept</td>\n",
       "      <td>Chief Engineering Tech*U7</td>\n",
       "      <td>F</td>\n",
       "      <td>23.58</td>\n",
       "      <td>63.179942</td>\n",
       "      <td>1.0</td>\n",
       "    </tr>\n",
       "    <tr>\n",
       "      <th>8</th>\n",
       "      <td>Public Transit</td>\n",
       "      <td>Municipal Security Guard</td>\n",
       "      <td>F</td>\n",
       "      <td>22.64</td>\n",
       "      <td>38.801618</td>\n",
       "      <td>1.0</td>\n",
       "    </tr>\n",
       "    <tr>\n",
       "      <th>9</th>\n",
       "      <td>Water Services Department</td>\n",
       "      <td>GIS Coordinator</td>\n",
       "      <td>F</td>\n",
       "      <td>43.92</td>\n",
       "      <td>272.465554</td>\n",
       "      <td>1.0</td>\n",
       "    </tr>\n",
       "  </tbody>\n",
       "</table>\n",
       "</div>"
      ],
      "text/plain": [
       "                     Department                     Job Title Full/Part Time  \\\n",
       "0             Police Department                Police Officer              F   \n",
       "1             Police Department                Police Officer              F   \n",
       "2               Fire Department              Firefighter 56hr              F   \n",
       "3             Police Department         Forensic Scientist IV              F   \n",
       "4  Parks & Recreation: Aquatics  Parks & Recreation Aide*Cash              P   \n",
       "5     Human Services Department                  Secretary II              F   \n",
       "6    Street Transportation Dept    Environmental Quality Spec              F   \n",
       "7   Planning & Development Dept     Chief Engineering Tech*U7              F   \n",
       "8                Public Transit      Municipal Security Guard              F   \n",
       "9     Water Services Department               GIS Coordinator              F   \n",
       "\n",
       "   Hourly Rate  antiguity_months  FullPartTime  \n",
       "0        37.79        365.609150           1.0  \n",
       "1        30.04         36.501776           1.0  \n",
       "2        24.48        167.592764           1.0  \n",
       "3        51.02        144.134376           1.0  \n",
       "4        12.92        140.454629           0.0  \n",
       "5        15.98         24.082630           1.0  \n",
       "6        41.78         63.639910           1.0  \n",
       "7        23.58         63.179942           1.0  \n",
       "8        22.64         38.801618           1.0  \n",
       "9        43.92        272.465554           1.0  "
      ]
     },
     "execution_count": 14,
     "metadata": {},
     "output_type": "execute_result"
    }
   ],
   "source": [
    "df_causal[0:10]"
   ]
  },
  {
   "cell_type": "code",
   "execution_count": 17,
   "id": "5a2a7c27",
   "metadata": {},
   "outputs": [
    {
     "data": {
      "text/html": [
       "<div>\n",
       "<style scoped>\n",
       "    .dataframe tbody tr th:only-of-type {\n",
       "        vertical-align: middle;\n",
       "    }\n",
       "\n",
       "    .dataframe tbody tr th {\n",
       "        vertical-align: top;\n",
       "    }\n",
       "\n",
       "    .dataframe thead th {\n",
       "        text-align: right;\n",
       "    }\n",
       "</style>\n",
       "<table border=\"1\" class=\"dataframe\">\n",
       "  <thead>\n",
       "    <tr style=\"text-align: right;\">\n",
       "      <th></th>\n",
       "      <th>antiguity_months</th>\n",
       "      <th>Department</th>\n",
       "      <th>FullPartTime</th>\n",
       "      <th>Hourly Rate</th>\n",
       "    </tr>\n",
       "  </thead>\n",
       "  <tbody>\n",
       "    <tr>\n",
       "      <th>0</th>\n",
       "      <td>365.609150</td>\n",
       "      <td>Police Department</td>\n",
       "      <td>0.0</td>\n",
       "      <td>32.493873</td>\n",
       "    </tr>\n",
       "    <tr>\n",
       "      <th>1</th>\n",
       "      <td>36.501776</td>\n",
       "      <td>Police Department</td>\n",
       "      <td>0.0</td>\n",
       "      <td>24.743873</td>\n",
       "    </tr>\n",
       "    <tr>\n",
       "      <th>2</th>\n",
       "      <td>167.592764</td>\n",
       "      <td>Fire Department</td>\n",
       "      <td>0.0</td>\n",
       "      <td>19.183873</td>\n",
       "    </tr>\n",
       "    <tr>\n",
       "      <th>3</th>\n",
       "      <td>144.134376</td>\n",
       "      <td>Police Department</td>\n",
       "      <td>0.0</td>\n",
       "      <td>45.723873</td>\n",
       "    </tr>\n",
       "    <tr>\n",
       "      <th>4</th>\n",
       "      <td>140.454629</td>\n",
       "      <td>Parks &amp; Recreation: Aquatics</td>\n",
       "      <td>0.0</td>\n",
       "      <td>12.920000</td>\n",
       "    </tr>\n",
       "    <tr>\n",
       "      <th>5</th>\n",
       "      <td>24.082630</td>\n",
       "      <td>Human Services Department</td>\n",
       "      <td>0.0</td>\n",
       "      <td>10.683873</td>\n",
       "    </tr>\n",
       "    <tr>\n",
       "      <th>6</th>\n",
       "      <td>63.639910</td>\n",
       "      <td>Street Transportation Dept</td>\n",
       "      <td>0.0</td>\n",
       "      <td>36.483873</td>\n",
       "    </tr>\n",
       "    <tr>\n",
       "      <th>7</th>\n",
       "      <td>63.179942</td>\n",
       "      <td>Planning &amp; Development Dept</td>\n",
       "      <td>0.0</td>\n",
       "      <td>18.283873</td>\n",
       "    </tr>\n",
       "    <tr>\n",
       "      <th>8</th>\n",
       "      <td>38.801618</td>\n",
       "      <td>Public Transit</td>\n",
       "      <td>0.0</td>\n",
       "      <td>17.343873</td>\n",
       "    </tr>\n",
       "    <tr>\n",
       "      <th>9</th>\n",
       "      <td>272.465554</td>\n",
       "      <td>Water Services Department</td>\n",
       "      <td>0.0</td>\n",
       "      <td>38.623873</td>\n",
       "    </tr>\n",
       "  </tbody>\n",
       "</table>\n",
       "</div>"
      ],
      "text/plain": [
       "   antiguity_months                    Department  FullPartTime  Hourly Rate\n",
       "0        365.609150             Police Department           0.0    32.493873\n",
       "1         36.501776             Police Department           0.0    24.743873\n",
       "2        167.592764               Fire Department           0.0    19.183873\n",
       "3        144.134376             Police Department           0.0    45.723873\n",
       "4        140.454629  Parks & Recreation: Aquatics           0.0    12.920000\n",
       "5         24.082630     Human Services Department           0.0    10.683873\n",
       "6         63.639910    Street Transportation Dept           0.0    36.483873\n",
       "7         63.179942   Planning & Development Dept           0.0    18.283873\n",
       "8         38.801618                Public Transit           0.0    17.343873\n",
       "9        272.465554     Water Services Department           0.0    38.623873"
      ]
     },
     "execution_count": 17,
     "metadata": {},
     "output_type": "execute_result"
    }
   ],
   "source": [
    "gcm.counterfactual_samples(\n",
    "    causal_model,\n",
    "    {'FullPartTime': lambda x: 0.0},\n",
    "    observed_data=df_causal[0:10])"
   ]
  },
  {
   "cell_type": "code",
   "execution_count": 21,
   "id": "291a3cb4",
   "metadata": {},
   "outputs": [
    {
     "data": {
      "text/html": [
       "<div>\n",
       "<style scoped>\n",
       "    .dataframe tbody tr th:only-of-type {\n",
       "        vertical-align: middle;\n",
       "    }\n",
       "\n",
       "    .dataframe tbody tr th {\n",
       "        vertical-align: top;\n",
       "    }\n",
       "\n",
       "    .dataframe thead th {\n",
       "        text-align: right;\n",
       "    }\n",
       "</style>\n",
       "<table border=\"1\" class=\"dataframe\">\n",
       "  <thead>\n",
       "    <tr style=\"text-align: right;\">\n",
       "      <th></th>\n",
       "      <th>antiguity_months</th>\n",
       "      <th>Department</th>\n",
       "      <th>FullPartTime</th>\n",
       "      <th>Hourly Rate</th>\n",
       "    </tr>\n",
       "  </thead>\n",
       "  <tbody>\n",
       "    <tr>\n",
       "      <th>0</th>\n",
       "      <td>365.60915</td>\n",
       "      <td>Police Department</td>\n",
       "      <td>0.0</td>\n",
       "      <td>32.493873</td>\n",
       "    </tr>\n",
       "  </tbody>\n",
       "</table>\n",
       "</div>"
      ],
      "text/plain": [
       "   antiguity_months         Department  FullPartTime  Hourly Rate\n",
       "0         365.60915  Police Department           0.0    32.493873"
      ]
     },
     "execution_count": 21,
     "metadata": {},
     "output_type": "execute_result"
    }
   ],
   "source": [
    "gcm.counterfactual_samples(\n",
    "    causal_model,\n",
    "    {'FullPartTime': lambda x: 0.0},\n",
    "    observed_data=df_causal[0:1])"
   ]
  },
  {
   "cell_type": "code",
   "execution_count": null,
   "id": "88c7603f",
   "metadata": {},
   "outputs": [],
   "source": []
  }
 ],
 "metadata": {
  "kernelspec": {
   "display_name": "dowhy",
   "language": "python",
   "name": "dowhy"
  },
  "language_info": {
   "codemirror_mode": {
    "name": "ipython",
    "version": 3
   },
   "file_extension": ".py",
   "mimetype": "text/x-python",
   "name": "python",
   "nbconvert_exporter": "python",
   "pygments_lexer": "ipython3",
   "version": "3.7.13"
  }
 },
 "nbformat": 4,
 "nbformat_minor": 5
}
